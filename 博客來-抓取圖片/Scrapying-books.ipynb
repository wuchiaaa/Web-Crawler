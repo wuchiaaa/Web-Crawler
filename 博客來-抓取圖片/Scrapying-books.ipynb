{
 "cells": [
  {
   "cell_type": "code",
   "execution_count": null,
   "metadata": {},
   "outputs": [],
   "source": [
    "\"\"\"\n",
    "<練習題>博客來\n",
    "抓取博客來口罩所有圖片\n",
    "\"\"\"\n",
    "\n",
    "from bs4 import BeautifulSoup\n",
    "import requests\n",
    "import re\n",
    "from urllib.request import urlopen\n",
    "\n",
    "url = 'https://activity.books.com.tw/crosscat/show/A00000015436/1?sloc=main'\n",
    "\n",
    "html = requests.get(url)\n",
    "\n",
    "sp = BeautifulSoup(html.text, 'lxml')\n",
    "# print(sp)\n",
    "\n",
    "imgList = sp.select('img')\n",
    "# print(imgList)\n",
    "\n",
    "for url in imgList:\n",
    "#     print(url['src'])\n",
    "    findurl = re.findall(r'https://www.+\\.jpg', url['src'])\n",
    "    filename = re.findall(r'N.{9}\\.jpg', url['src'])\n",
    "#     print(findurl, filename)\n",
    "    print('--------------')\n",
    "    if len(findurl)>0:\n",
    "        try:\n",
    "            findurl = findurl[0]\n",
    "            filename = filename[0]\n",
    "            print(findurl, filename)\n",
    "            image = urlopen(findurl)   # 儲存圖片\n",
    "            with open(filename, 'wb') as f:\n",
    "                f.write(image.read())\n",
    "        except:\n",
    "            print('error')"
   ]
  }
 ],
 "metadata": {
  "kernelspec": {
   "display_name": "Python 3",
   "language": "python",
   "name": "python3"
  },
  "language_info": {
   "codemirror_mode": {
    "name": "ipython",
    "version": 3
   },
   "file_extension": ".py",
   "mimetype": "text/x-python",
   "name": "python",
   "nbconvert_exporter": "python",
   "pygments_lexer": "ipython3",
   "version": "3.7.0"
  }
 },
 "nbformat": 4,
 "nbformat_minor": 2
}
